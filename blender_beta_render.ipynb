{
  "cells": [
    {
      "cell_type": "markdown",
      "metadata": {
        "id": "view-in-github",
        "colab_type": "text"
      },
      "source": [
        "<a href=\"https://colab.research.google.com/github/Melyyn/collab/blob/main/blender_beta_render.ipynb\" target=\"_parent\"><img src=\"https://colab.research.google.com/assets/colab-badge.svg\" alt=\"Open In Colab\"/></a>"
      ]
    },
    {
      "cell_type": "markdown",
      "metadata": {
        "id": "6EYxUEsyGlkw"
      },
      "source": [
        "# Setup\n",
        "**Make sure to read the instructions carefully!**\n",
        "\n",
        "If you have other resources used in the Blender project and chose to *make all paths relative*, pack all of them into a zip archive. Alternatively, you can *pack all external file*.\n",
        "\n",
        "* `blender_version` : Version of blender used to render the scene.\n",
        "* `blend_file_path` : Path to the blend file after unpacking the zip archive. If blend file is used, this is automatically ignored.\n",
        "___\n",
        "* `upload_type` : Select the type of upload method. `gdrive_relative` pulls everything from the folder specified.\n",
        "* `drive_path` : Path to your blend/zip file relative to the root of your Google Drive if `google_drive` is selected. Must  state the file and its extension (.zip/.blend) **unless** `gdrive_relative` is selected.\n",
        "* `url_blend` : Specify the URL to the blend/zip file if `url` is selected.\n",
        "___\n",
        "* `animation` : Specify whether animation or still image is rendered. If **still image** is used, put the frame number in `start_frame`.\n",
        "* `start_frame, end_frame` : Specify the start and end frame for animation. You may put same value such as zero for both input to set the default frame in the blend file.\n",
        "___\n",
        "* `download_type` : Select the type of download method. `gdrive_direct` enables the frames to be outputted directly to Google Drive (zipping will be disabled).\n",
        "* `output_name` : Name of the output frames, **do NOT include .blend!** (## for frame number)\n",
        "* `zip_files` : Archive multiple animation frames automatically into a zip file.\n",
        "* `drive_output_path` : Path to your frames/zip file in Google Drive.\n",
        "___\n",
        "* `gpu_enabled, cpu_enabled` : Toggle GPU and CPU for rendering. CPU might give a slight boost in rendering time but may varies depend on the project.\n",
        "* `optix_enable` : Enable OptiX which may boost performance, may be incompatible depending on the version of blender, project and GPU allocated\n",
        "\n",
        "After you are done, go to Runtime > Run All (Ctrl + F9) and upload your files or have Google Drive authorised below. See the [GitHub repo](https://github.com/syn73/blender-colab) for more information."
      ]
    },
    {
      "cell_type": "code",
      "execution_count": null,
      "metadata": {
        "id": "8dFNjYGTgNjR"
      },
      "outputs": [],
      "source": [
        "blender_version = '3.2.2' #@param ['2.79b', '2.80rc3', '2.81a', '2.82a', '2.83.20', '2.90.1', '2.91.2', '2.92.0', '2.93.10', '3.0.1', '3.1.2', '3.2.2'] {allow-input: false}\n",
        "blend_file_path = '/content/volumetric_colab.blend' #@param {type: 'string'}\n",
        "#@markdown ---\n",
        "upload_type = 'direct' #@param ['direct', 'google_drive', 'url', 'gdrive_relative'] {allow-input: false}\n",
        "drive_path = 'path/to/blend.zip' #@param {type: 'string'}\n",
        "url_blend = '' #@param {type: 'string'}\n",
        "#@markdown ---\n",
        "animation = False #@param {type: 'boolean'}\n",
        "start_frame =  1#@param {type: 'integer'}\n",
        "end_frame =  1#@param {type: 'integer'}\n",
        "#@markdown ---\n",
        "download_type = 'direct' #@param ['direct', 'google_drive', 'gdrive_direct'] {allow-input: false}\n",
        "output_name = 'blender-##' #@param {type: 'string'}\n",
        "zip_files = True #@param {type: 'boolean'}\n",
        "drive_output_path = 'blender/output' #@param {type: 'string'}\n",
        "#@markdown ---\n",
        "gpu_enabled = True #@param {type:\"boolean\"}\n",
        "optix_enabled = False #@param {type:\"boolean\"}\n",
        "cpu_enabled = True #@param {type:\"boolean\"}"
      ]
    },
    {
      "cell_type": "code",
      "execution_count": null,
      "metadata": {
        "id": "XQ0cynSzSYDd",
        "colab": {
          "base_uri": "https://localhost:8080/"
        },
        "outputId": "4842d55e-2eed-4e2c-a56b-33055c690432"
      },
      "outputs": [
        {
          "output_type": "stream",
          "name": "stdout",
          "text": [
            "Current GPU: Tesla T4\n"
          ]
        }
      ],
      "source": [
        "gpu = !nvidia-smi --query-gpu=gpu_name --format=csv,noheader\n",
        "print(\"Current GPU: \" + gpu[0])\n",
        "\n",
        "if gpu[0] == \"Tesla K80\" and optix_enabled:\n",
        "  print(\"OptiX disabled because of unsupported GPU\")\n",
        "  optix_enabled = False"
      ]
    },
    {
      "cell_type": "code",
      "execution_count": null,
      "metadata": {
        "id": "pQboAtzI0Zc8",
        "colab": {
          "base_uri": "https://localhost:8080/"
        },
        "outputId": "14db7f89-dbe3-4e0a-c6d1-66b1c6a4f87e"
      },
      "outputs": [
        {
          "output_type": "stream",
          "name": "stdout",
          "text": [
            "Reading package lists... Done\n",
            "Building dependency tree       \n",
            "Reading state information... Done\n",
            "The following package was automatically installed and is no longer required:\n",
            "  libnvidia-common-460\n",
            "Use 'apt autoremove' to remove it.\n",
            "The following packages will be REMOVED:\n",
            "  libtcmalloc-minimal4\n",
            "0 upgraded, 0 newly installed, 1 to remove and 19 not upgraded.\n",
            "After this operation, 380 kB disk space will be freed.\n",
            "(Reading database ... 155613 files and directories currently installed.)\n",
            "Removing libtcmalloc-minimal4 (2.5-2.2ubuntu3) ...\n",
            "Processing triggers for libc-bin (2.27-3ubuntu1.5) ...\n",
            "Reading package lists... Done\n",
            "Building dependency tree       \n",
            "Reading state information... Done\n",
            "The following package was automatically installed and is no longer required:\n",
            "  libnvidia-common-460\n",
            "Use 'apt autoremove' to remove it.\n",
            "The following NEW packages will be installed:\n",
            "  libtcmalloc-minimal4\n",
            "0 upgraded, 1 newly installed, 0 to remove and 19 not upgraded.\n",
            "Need to get 91.6 kB of archives.\n",
            "After this operation, 380 kB of additional disk space will be used.\n",
            "Get:1 http://archive.ubuntu.com/ubuntu bionic/main amd64 libtcmalloc-minimal4 amd64 2.5-2.2ubuntu3 [91.6 kB]\n",
            "Fetched 91.6 kB in 0s (374 kB/s)\n",
            "Selecting previously unselected package libtcmalloc-minimal4.\n",
            "(Reading database ... 155606 files and directories currently installed.)\n",
            "Preparing to unpack .../libtcmalloc-minimal4_2.5-2.2ubuntu3_amd64.deb ...\n",
            "Unpacking libtcmalloc-minimal4 (2.5-2.2ubuntu3) ...\n",
            "Setting up libtcmalloc-minimal4 (2.5-2.2ubuntu3) ...\n",
            "Processing triggers for libc-bin (2.27-3ubuntu1.5) ...\n"
          ]
        }
      ],
      "source": [
        "import os\n",
        "\n",
        "os.environ[\"LD_PRELOAD\"] = \"\"\n",
        "\n",
        "!apt remove libtcmalloc-minimal4\n",
        "!apt install libtcmalloc-minimal4\n",
        "\n",
        "os.environ[\"LD_PRELOAD\"] = \"/usr/lib/x86_64-linux-gnu/libtcmalloc_minimal.so.4.3.0\""
      ]
    },
    {
      "cell_type": "code",
      "execution_count": null,
      "metadata": {
        "id": "QRzNmiHN8Xr0",
        "colab": {
          "resources": {
            "http://localhost:8080/nbextensions/google.colab/files.js": {
              "data": "Ly8gQ29weXJpZ2h0IDIwMTcgR29vZ2xlIExMQwovLwovLyBMaWNlbnNlZCB1bmRlciB0aGUgQXBhY2hlIExpY2Vuc2UsIFZlcnNpb24gMi4wICh0aGUgIkxpY2Vuc2UiKTsKLy8geW91IG1heSBub3QgdXNlIHRoaXMgZmlsZSBleGNlcHQgaW4gY29tcGxpYW5jZSB3aXRoIHRoZSBMaWNlbnNlLgovLyBZb3UgbWF5IG9idGFpbiBhIGNvcHkgb2YgdGhlIExpY2Vuc2UgYXQKLy8KLy8gICAgICBodHRwOi8vd3d3LmFwYWNoZS5vcmcvbGljZW5zZXMvTElDRU5TRS0yLjAKLy8KLy8gVW5sZXNzIHJlcXVpcmVkIGJ5IGFwcGxpY2FibGUgbGF3IG9yIGFncmVlZCB0byBpbiB3cml0aW5nLCBzb2Z0d2FyZQovLyBkaXN0cmlidXRlZCB1bmRlciB0aGUgTGljZW5zZSBpcyBkaXN0cmlidXRlZCBvbiBhbiAiQVMgSVMiIEJBU0lTLAovLyBXSVRIT1VUIFdBUlJBTlRJRVMgT1IgQ09ORElUSU9OUyBPRiBBTlkgS0lORCwgZWl0aGVyIGV4cHJlc3Mgb3IgaW1wbGllZC4KLy8gU2VlIHRoZSBMaWNlbnNlIGZvciB0aGUgc3BlY2lmaWMgbGFuZ3VhZ2UgZ292ZXJuaW5nIHBlcm1pc3Npb25zIGFuZAovLyBsaW1pdGF0aW9ucyB1bmRlciB0aGUgTGljZW5zZS4KCi8qKgogKiBAZmlsZW92ZXJ2aWV3IEhlbHBlcnMgZm9yIGdvb2dsZS5jb2xhYiBQeXRob24gbW9kdWxlLgogKi8KKGZ1bmN0aW9uKHNjb3BlKSB7CmZ1bmN0aW9uIHNwYW4odGV4dCwgc3R5bGVBdHRyaWJ1dGVzID0ge30pIHsKICBjb25zdCBlbGVtZW50ID0gZG9jdW1lbnQuY3JlYXRlRWxlbWVudCgnc3BhbicpOwogIGVsZW1lbnQudGV4dENvbnRlbnQgPSB0ZXh0OwogIGZvciAoY29uc3Qga2V5IG9mIE9iamVjdC5rZXlzKHN0eWxlQXR0cmlidXRlcykpIHsKICAgIGVsZW1lbnQuc3R5bGVba2V5XSA9IHN0eWxlQXR0cmlidXRlc1trZXldOwogIH0KICByZXR1cm4gZWxlbWVudDsKfQoKLy8gTWF4IG51bWJlciBvZiBieXRlcyB3aGljaCB3aWxsIGJlIHVwbG9hZGVkIGF0IGEgdGltZS4KY29uc3QgTUFYX1BBWUxPQURfU0laRSA9IDEwMCAqIDEwMjQ7CgpmdW5jdGlvbiBfdXBsb2FkRmlsZXMoaW5wdXRJZCwgb3V0cHV0SWQpIHsKICBjb25zdCBzdGVwcyA9IHVwbG9hZEZpbGVzU3RlcChpbnB1dElkLCBvdXRwdXRJZCk7CiAgY29uc3Qgb3V0cHV0RWxlbWVudCA9IGRvY3VtZW50LmdldEVsZW1lbnRCeUlkKG91dHB1dElkKTsKICAvLyBDYWNoZSBzdGVwcyBvbiB0aGUgb3V0cHV0RWxlbWVudCB0byBtYWtlIGl0IGF2YWlsYWJsZSBmb3IgdGhlIG5leHQgY2FsbAogIC8vIHRvIHVwbG9hZEZpbGVzQ29udGludWUgZnJvbSBQeXRob24uCiAgb3V0cHV0RWxlbWVudC5zdGVwcyA9IHN0ZXBzOwoKICByZXR1cm4gX3VwbG9hZEZpbGVzQ29udGludWUob3V0cHV0SWQpOwp9CgovLyBUaGlzIGlzIHJvdWdobHkgYW4gYXN5bmMgZ2VuZXJhdG9yIChub3Qgc3VwcG9ydGVkIGluIHRoZSBicm93c2VyIHlldCksCi8vIHdoZXJlIHRoZXJlIGFyZSBtdWx0aXBsZSBhc3luY2hyb25vdXMgc3RlcHMgYW5kIHRoZSBQeXRob24gc2lkZSBpcyBnb2luZwovLyB0byBwb2xsIGZvciBjb21wbGV0aW9uIG9mIGVhY2ggc3RlcC4KLy8gVGhpcyB1c2VzIGEgUHJvbWlzZSB0byBibG9jayB0aGUgcHl0aG9uIHNpZGUgb24gY29tcGxldGlvbiBvZiBlYWNoIHN0ZXAsCi8vIHRoZW4gcGFzc2VzIHRoZSByZXN1bHQgb2YgdGhlIHByZXZpb3VzIHN0ZXAgYXMgdGhlIGlucHV0IHRvIHRoZSBuZXh0IHN0ZXAuCmZ1bmN0aW9uIF91cGxvYWRGaWxlc0NvbnRpbnVlKG91dHB1dElkKSB7CiAgY29uc3Qgb3V0cHV0RWxlbWVudCA9IGRvY3VtZW50LmdldEVsZW1lbnRCeUlkKG91dHB1dElkKTsKICBjb25zdCBzdGVwcyA9IG91dHB1dEVsZW1lbnQuc3RlcHM7CgogIGNvbnN0IG5leHQgPSBzdGVwcy5uZXh0KG91dHB1dEVsZW1lbnQubGFzdFByb21pc2VWYWx1ZSk7CiAgcmV0dXJuIFByb21pc2UucmVzb2x2ZShuZXh0LnZhbHVlLnByb21pc2UpLnRoZW4oKHZhbHVlKSA9PiB7CiAgICAvLyBDYWNoZSB0aGUgbGFzdCBwcm9taXNlIHZhbHVlIHRvIG1ha2UgaXQgYXZhaWxhYmxlIHRvIHRoZSBuZXh0CiAgICAvLyBzdGVwIG9mIHRoZSBnZW5lcmF0b3IuCiAgICBvdXRwdXRFbGVtZW50Lmxhc3RQcm9taXNlVmFsdWUgPSB2YWx1ZTsKICAgIHJldHVybiBuZXh0LnZhbHVlLnJlc3BvbnNlOwogIH0pOwp9CgovKioKICogR2VuZXJhdG9yIGZ1bmN0aW9uIHdoaWNoIGlzIGNhbGxlZCBiZXR3ZWVuIGVhY2ggYXN5bmMgc3RlcCBvZiB0aGUgdXBsb2FkCiAqIHByb2Nlc3MuCiAqIEBwYXJhbSB7c3RyaW5nfSBpbnB1dElkIEVsZW1lbnQgSUQgb2YgdGhlIGlucHV0IGZpbGUgcGlja2VyIGVsZW1lbnQuCiAqIEBwYXJhbSB7c3RyaW5nfSBvdXRwdXRJZCBFbGVtZW50IElEIG9mIHRoZSBvdXRwdXQgZGlzcGxheS4KICogQHJldHVybiB7IUl0ZXJhYmxlPCFPYmplY3Q+fSBJdGVyYWJsZSBvZiBuZXh0IHN0ZXBzLgogKi8KZnVuY3Rpb24qIHVwbG9hZEZpbGVzU3RlcChpbnB1dElkLCBvdXRwdXRJZCkgewogIGNvbnN0IGlucHV0RWxlbWVudCA9IGRvY3VtZW50LmdldEVsZW1lbnRCeUlkKGlucHV0SWQpOwogIGlucHV0RWxlbWVudC5kaXNhYmxlZCA9IGZhbHNlOwoKICBjb25zdCBvdXRwdXRFbGVtZW50ID0gZG9jdW1lbnQuZ2V0RWxlbWVudEJ5SWQob3V0cHV0SWQpOwogIG91dHB1dEVsZW1lbnQuaW5uZXJIVE1MID0gJyc7CgogIGNvbnN0IHBpY2tlZFByb21pc2UgPSBuZXcgUHJvbWlzZSgocmVzb2x2ZSkgPT4gewogICAgaW5wdXRFbGVtZW50LmFkZEV2ZW50TGlzdGVuZXIoJ2NoYW5nZScsIChlKSA9PiB7CiAgICAgIHJlc29sdmUoZS50YXJnZXQuZmlsZXMpOwogICAgfSk7CiAgfSk7CgogIGNvbnN0IGNhbmNlbCA9IGRvY3VtZW50LmNyZWF0ZUVsZW1lbnQoJ2J1dHRvbicpOwogIGlucHV0RWxlbWVudC5wYXJlbnRFbGVtZW50LmFwcGVuZENoaWxkKGNhbmNlbCk7CiAgY2FuY2VsLnRleHRDb250ZW50ID0gJ0NhbmNlbCB1cGxvYWQnOwogIGNvbnN0IGNhbmNlbFByb21pc2UgPSBuZXcgUHJvbWlzZSgocmVzb2x2ZSkgPT4gewogICAgY2FuY2VsLm9uY2xpY2sgPSAoKSA9PiB7CiAgICAgIHJlc29sdmUobnVsbCk7CiAgICB9OwogIH0pOwoKICAvLyBXYWl0IGZvciB0aGUgdXNlciB0byBwaWNrIHRoZSBmaWxlcy4KICBjb25zdCBmaWxlcyA9IHlpZWxkIHsKICAgIHByb21pc2U6IFByb21pc2UucmFjZShbcGlja2VkUHJvbWlzZSwgY2FuY2VsUHJvbWlzZV0pLAogICAgcmVzcG9uc2U6IHsKICAgICAgYWN0aW9uOiAnc3RhcnRpbmcnLAogICAgfQogIH07CgogIGNhbmNlbC5yZW1vdmUoKTsKCiAgLy8gRGlzYWJsZSB0aGUgaW5wdXQgZWxlbWVudCBzaW5jZSBmdXJ0aGVyIHBpY2tzIGFyZSBub3QgYWxsb3dlZC4KICBpbnB1dEVsZW1lbnQuZGlzYWJsZWQgPSB0cnVlOwoKICBpZiAoIWZpbGVzKSB7CiAgICByZXR1cm4gewogICAgICByZXNwb25zZTogewogICAgICAgIGFjdGlvbjogJ2NvbXBsZXRlJywKICAgICAgfQogICAgfTsKICB9CgogIGZvciAoY29uc3QgZmlsZSBvZiBmaWxlcykgewogICAgY29uc3QgbGkgPSBkb2N1bWVudC5jcmVhdGVFbGVtZW50KCdsaScpOwogICAgbGkuYXBwZW5kKHNwYW4oZmlsZS5uYW1lLCB7Zm9udFdlaWdodDogJ2JvbGQnfSkpOwogICAgbGkuYXBwZW5kKHNwYW4oCiAgICAgICAgYCgke2ZpbGUudHlwZSB8fCAnbi9hJ30pIC0gJHtmaWxlLnNpemV9IGJ5dGVzLCBgICsKICAgICAgICBgbGFzdCBtb2RpZmllZDogJHsKICAgICAgICAgICAgZmlsZS5sYXN0TW9kaWZpZWREYXRlID8gZmlsZS5sYXN0TW9kaWZpZWREYXRlLnRvTG9jYWxlRGF0ZVN0cmluZygpIDoKICAgICAgICAgICAgICAgICAgICAgICAgICAgICAgICAgICAgJ24vYSd9IC0gYCkpOwogICAgY29uc3QgcGVyY2VudCA9IHNwYW4oJzAlIGRvbmUnKTsKICAgIGxpLmFwcGVuZENoaWxkKHBlcmNlbnQpOwoKICAgIG91dHB1dEVsZW1lbnQuYXBwZW5kQ2hpbGQobGkpOwoKICAgIGNvbnN0IGZpbGVEYXRhUHJvbWlzZSA9IG5ldyBQcm9taXNlKChyZXNvbHZlKSA9PiB7CiAgICAgIGNvbnN0IHJlYWRlciA9IG5ldyBGaWxlUmVhZGVyKCk7CiAgICAgIHJlYWRlci5vbmxvYWQgPSAoZSkgPT4gewogICAgICAgIHJlc29sdmUoZS50YXJnZXQucmVzdWx0KTsKICAgICAgfTsKICAgICAgcmVhZGVyLnJlYWRBc0FycmF5QnVmZmVyKGZpbGUpOwogICAgfSk7CiAgICAvLyBXYWl0IGZvciB0aGUgZGF0YSB0byBiZSByZWFkeS4KICAgIGxldCBmaWxlRGF0YSA9IHlpZWxkIHsKICAgICAgcHJvbWlzZTogZmlsZURhdGFQcm9taXNlLAogICAgICByZXNwb25zZTogewogICAgICAgIGFjdGlvbjogJ2NvbnRpbnVlJywKICAgICAgfQogICAgfTsKCiAgICAvLyBVc2UgYSBjaHVua2VkIHNlbmRpbmcgdG8gYXZvaWQgbWVzc2FnZSBzaXplIGxpbWl0cy4gU2VlIGIvNjIxMTU2NjAuCiAgICBsZXQgcG9zaXRpb24gPSAwOwogICAgZG8gewogICAgICBjb25zdCBsZW5ndGggPSBNYXRoLm1pbihmaWxlRGF0YS5ieXRlTGVuZ3RoIC0gcG9zaXRpb24sIE1BWF9QQVlMT0FEX1NJWkUpOwogICAgICBjb25zdCBjaHVuayA9IG5ldyBVaW50OEFycmF5KGZpbGVEYXRhLCBwb3NpdGlvbiwgbGVuZ3RoKTsKICAgICAgcG9zaXRpb24gKz0gbGVuZ3RoOwoKICAgICAgY29uc3QgYmFzZTY0ID0gYnRvYShTdHJpbmcuZnJvbUNoYXJDb2RlLmFwcGx5KG51bGwsIGNodW5rKSk7CiAgICAgIHlpZWxkIHsKICAgICAgICByZXNwb25zZTogewogICAgICAgICAgYWN0aW9uOiAnYXBwZW5kJywKICAgICAgICAgIGZpbGU6IGZpbGUubmFtZSwKICAgICAgICAgIGRhdGE6IGJhc2U2NCwKICAgICAgICB9LAogICAgICB9OwoKICAgICAgbGV0IHBlcmNlbnREb25lID0gZmlsZURhdGEuYnl0ZUxlbmd0aCA9PT0gMCA/CiAgICAgICAgICAxMDAgOgogICAgICAgICAgTWF0aC5yb3VuZCgocG9zaXRpb24gLyBmaWxlRGF0YS5ieXRlTGVuZ3RoKSAqIDEwMCk7CiAgICAgIHBlcmNlbnQudGV4dENvbnRlbnQgPSBgJHtwZXJjZW50RG9uZX0lIGRvbmVgOwoKICAgIH0gd2hpbGUgKHBvc2l0aW9uIDwgZmlsZURhdGEuYnl0ZUxlbmd0aCk7CiAgfQoKICAvLyBBbGwgZG9uZS4KICB5aWVsZCB7CiAgICByZXNwb25zZTogewogICAgICBhY3Rpb246ICdjb21wbGV0ZScsCiAgICB9CiAgfTsKfQoKc2NvcGUuZ29vZ2xlID0gc2NvcGUuZ29vZ2xlIHx8IHt9OwpzY29wZS5nb29nbGUuY29sYWIgPSBzY29wZS5nb29nbGUuY29sYWIgfHwge307CnNjb3BlLmdvb2dsZS5jb2xhYi5fZmlsZXMgPSB7CiAgX3VwbG9hZEZpbGVzLAogIF91cGxvYWRGaWxlc0NvbnRpbnVlLAp9Owp9KShzZWxmKTsK",
              "ok": true,
              "headers": [
                [
                  "content-type",
                  "application/javascript"
                ]
              ],
              "status": 200,
              "status_text": ""
            }
          },
          "base_uri": "https://localhost:8080/",
          "height": 73
        },
        "outputId": "1cca5464-a13c-4456-8106-314fa6f7d124"
      },
      "outputs": [
        {
          "output_type": "display_data",
          "data": {
            "text/plain": [
              "<IPython.core.display.HTML object>"
            ],
            "text/html": [
              "\n",
              "     <input type=\"file\" id=\"files-e2502091-7909-4385-874d-44eed952b3b4\" name=\"files[]\" multiple disabled\n",
              "        style=\"border:none\" />\n",
              "     <output id=\"result-e2502091-7909-4385-874d-44eed952b3b4\">\n",
              "      Upload widget is only available when the cell has been executed in the\n",
              "      current browser session. Please rerun this cell to enable.\n",
              "      </output>\n",
              "      <script src=\"/nbextensions/google.colab/files.js\"></script> "
            ]
          },
          "metadata": {}
        },
        {
          "output_type": "stream",
          "name": "stdout",
          "text": [
            "Saving volumetric_colab.blend to volumetric_colab (1).blend\n"
          ]
        }
      ],
      "source": [
        "import shutil\n",
        "from google.colab import files, drive\n",
        "uploaded_filename = \"\"\n",
        "\n",
        "if upload_type == 'google_drive' or upload_type == 'gdrive_relative' or download_type == 'google_drive' or download_type == 'gdrive_direct':\n",
        "    drive.mount('/drive')\n",
        "\n",
        "if upload_type == 'direct':\n",
        "    uploaded = files.upload()\n",
        "    for fn in uploaded.keys():\n",
        "        uploaded_filename = fn\n",
        "elif upload_type == 'url':\n",
        "    !wget -nc $url_blend\n",
        "    uploaded_filename = os.path.basename(url_blend)\n",
        "elif upload_type == 'google_drive':\n",
        "    shutil.copy('/drive/My Drive/' + drive_path, '.')\n",
        "    uploaded_filename = os.path.basename(drive_path)"
      ]
    },
    {
      "cell_type": "code",
      "execution_count": null,
      "metadata": {
        "id": "KowqWtLzgSLw"
      },
      "outputs": [],
      "source": [
        "!rm -r render\n",
        "!mkdir render\n",
        "\n",
        "if upload_type == 'gdrive_relative':\n",
        "    if not drive_path.endswith('/'):\n",
        "        drive_path += '/'\n",
        "    !cp -r '/drive/My Drive/{drive_path}.' 'render/'\n",
        "elif uploaded_filename.lower().endswith('.zip'):\n",
        "    !unzip -o $uploaded_filename -d 'render/'\n",
        "elif uploaded_filename.lower().endswith('.blend'):\n",
        "    shutil.copy(uploaded_filename, 'render/')\n",
        "    blend_file_path = uploaded_filename\n",
        "else:\n",
        "    raise SystemExit(\"Invalid file extension, only .blend and .zip can be uploaded.\")"
      ]
    },
    {
      "cell_type": "code",
      "execution_count": null,
      "metadata": {
        "id": "GPJ9fmoB6PWM",
        "colab": {
          "base_uri": "https://localhost:8080/"
        },
        "outputId": "2918e88c-d4bb-4af4-c1ab-fa3f98ea876d"
      },
      "outputs": [
        {
          "output_type": "stream",
          "name": "stdout",
          "text": [
            "--2022-08-15 02:33:22--  https://ftp.nluug.nl/pub/graphics/blender/release/Blender3.2/blender-3.2.2-linux-x64.tar.xz\n",
            "Resolving ftp.nluug.nl (ftp.nluug.nl)... 145.220.21.40, 2001:67c:6ec:221:145:220:21:40\n",
            "Connecting to ftp.nluug.nl (ftp.nluug.nl)|145.220.21.40|:443... connected.\n",
            "HTTP request sent, awaiting response... 200 OK\n",
            "Length: 191760080 (183M) [application/x-tar]\n",
            "Saving to: ‘blender-3.2.2-linux-x64.tar.xz’\n",
            "\n",
            "blender-3.2.2-linux 100%[===================>] 182.88M  5.00MB/s    in 41s     \n",
            "\n",
            "2022-08-15 02:34:03 (4.51 MB/s) - ‘blender-3.2.2-linux-x64.tar.xz’ saved [191760080/191760080]\n",
            "\n"
          ]
        }
      ],
      "source": [
        "blender_url_dict = {'2.79b'   : \"https://ftp.nluug.nl/pub/graphics/blender/release/Blender2.79/blender-2.79b-linux-glibc219-x86_64.tar.bz2\",\n",
        "                    '2.80rc3' : \"https://ftp.nluug.nl/pub/graphics/blender/release/Blender2.80/blender-2.80rc3-linux-glibc217-x86_64.tar.bz2\",\n",
        "                    '2.81a'   : \"https://ftp.nluug.nl/pub/graphics/blender/release/Blender2.81/blender-2.81a-linux-glibc217-x86_64.tar.bz2\",\n",
        "                    '2.82a'   : \"https://ftp.nluug.nl/pub/graphics/blender/release/Blender2.82/blender-2.82a-linux64.tar.xz\",\n",
        "                    '2.83.20' : \"https://ftp.nluug.nl/pub/graphics/blender/release/Blender2.83/blender-2.83.20-linux-x64.tar.xz\",\n",
        "                    '2.90.1'  : \"https://ftp.nluug.nl/pub/graphics/blender/release/Blender2.90/blender-2.90.1-linux64.tar.xz\",\n",
        "                    '2.91.2'  : \"https://ftp.nluug.nl/pub/graphics/blender/release/Blender2.91/blender-2.91.2-linux64.tar.xz\",\n",
        "                    '2.92.0'  : \"https://ftp.nluug.nl/pub/graphics/blender/release/Blender2.92/blender-2.92.0-linux64.tar.xz\",\n",
        "                    '2.93.10' : \"https://ftp.nluug.nl/pub/graphics/blender/release/Blender2.93/blender-2.93.10-linux-x64.tar.xz\",\n",
        "                    '3.0.1'   : \"https://ftp.nluug.nl/pub/graphics/blender/release/Blender3.0/blender-3.0.1-linux-x64.tar.xz\",\n",
        "                    '3.1.2'   : \"https://ftp.nluug.nl/pub/graphics/blender/release/Blender3.1/blender-3.1.2-linux-x64.tar.xz\",\n",
        "                    '3.2.2'   : \"https://ftp.nluug.nl/pub/graphics/blender/release/Blender3.2/blender-3.2.2-linux-x64.tar.xz\"}\n",
        "\n",
        "blender_url = blender_url_dict[blender_version]\n",
        "base_url = os.path.basename(blender_url)\n",
        "\n",
        "!mkdir $blender_version\n",
        "!wget -nc $blender_url\n",
        "!tar -xkf $base_url -C ./$blender_version --strip-components=1"
      ]
    },
    {
      "cell_type": "code",
      "execution_count": null,
      "metadata": {
        "id": "6elYiQrvkUAe"
      },
      "outputs": [],
      "source": [
        "# Enable GPU rendering (or add custom properties here)\n",
        "data = \"import re\\n\"+\\\n",
        "    \"import bpy\\n\"+\\\n",
        "    \"scene = bpy.context.scene\\n\"+\\\n",
        "    \"scene.cycles.device = 'GPU'\\n\"+\\\n",
        "    \"prefs = bpy.context.preferences\\n\"+\\\n",
        "    \"prefs.addons['cycles'].preferences.get_devices()\\n\"+\\\n",
        "    \"cprefs = prefs.addons['cycles'].preferences\\n\"+\\\n",
        "    \"print(cprefs)\\n\"+\\\n",
        "    \"for compute_device_type in ('CUDA', 'OPENCL', 'NONE'):\\n\"+\\\n",
        "    \"    try:\\n\"+\\\n",
        "    \"        cprefs.compute_device_type = compute_device_type\\n\"+\\\n",
        "    \"        print('Device found:',compute_device_type)\\n\"+\\\n",
        "    \"        break\\n\"+\\\n",
        "    \"    except TypeError:\\n\"+\\\n",
        "    \"        pass\\n\"+\\\n",
        "    \"for device in cprefs.devices:\\n\"+\\\n",
        "    \"    if not re.match('intel', device.name, re.I):\\n\"+\\\n",
        "    \"        print('Activating',device)\\n\"+\\\n",
        "    \"        device.use = \"+str(gpu_enabled)+\"\\n\"+\\\n",
        "    \"    else:\\n\"+\\\n",
        "    \"        device.use = \"+str(cpu_enabled)+\"\\n\"\n",
        "with open('setgpu.py', 'w') as f:\n",
        "    f.write(data)\n",
        "\n",
        "renderer = \"CUDA\"\n",
        "if optix_enabled:\n",
        "    print(\"Note: You're currently using OptiX renderer. If an error occurred, the current GPU (example: Tesla K80) is not supported and you need to switch back to Cycles.\")\n",
        "    renderer = \"OPTIX\""
      ]
    },
    {
      "cell_type": "code",
      "execution_count": null,
      "metadata": {
        "id": "Fpk2w3yM8XqQ",
        "colab": {
          "base_uri": "https://localhost:8080/"
        },
        "outputId": "fb2d8467-44b5-4be2-fc14-23a04bdaf2fd"
      },
      "outputs": [
        {
          "output_type": "stream",
          "name": "stdout",
          "text": [
            "Blender 3.2.2 (hash bcfdb14560e7 built 2022-08-02 23:38:01)\n",
            "Read blend: /content/render/volumetric_colab.blend\n",
            "<bpy_struct, CyclesPreferences at 0x7fed59236e68>\n",
            "Device found: CUDA\n",
            "Activating <bpy_struct, CyclesDeviceSettings(\"Tesla T4\") at 0x7fed56b6de88>\n",
            "Fra:1 Mem:9.39M (Peak 11.54M) | Time:00:00.21 | Mem:0.00M, Peak:0.00M | Scene, View Layer | Synchronizing object | Cube\n",
            "Fra:1 Mem:9.39M (Peak 11.54M) | Time:00:00.21 | Mem:0.00M, Peak:0.00M | Scene, View Layer | Initializing\n",
            "Fra:1 Mem:9.18M (Peak 11.54M) | Time:00:00.21 | Mem:0.00M, Peak:0.00M | Scene, View Layer | Waiting for render to start\n",
            "Fra:1 Mem:9.18M (Peak 11.54M) | Time:00:00.21 | Mem:0.00M, Peak:0.00M | Scene, View Layer | Loading render kernels (may take a few minutes the first time)\n",
            "Fra:1 Mem:9.18M (Peak 25.03M) | Time:00:00.27 | Mem:0.00M, Peak:0.00M | Scene, View Layer | Updating Scene\n",
            "Fra:1 Mem:9.18M (Peak 25.03M) | Time:00:00.27 | Mem:0.00M, Peak:0.00M | Scene, View Layer | Updating Shaders\n",
            "Fra:1 Mem:9.69M (Peak 25.03M) | Time:00:00.38 | Mem:0.01M, Peak:0.01M | Scene, View Layer | Updating Procedurals\n",
            "Fra:1 Mem:9.69M (Peak 25.03M) | Time:00:00.38 | Mem:0.01M, Peak:0.01M | Scene, View Layer | Updating Background\n",
            "Fra:1 Mem:9.69M (Peak 25.03M) | Time:00:00.38 | Mem:0.01M, Peak:0.01M | Scene, View Layer | Updating Camera\n",
            "Fra:1 Mem:9.69M (Peak 25.03M) | Time:00:00.38 | Mem:0.01M, Peak:0.01M | Scene, View Layer | Updating Meshes Flags\n",
            "Fra:1 Mem:9.69M (Peak 25.03M) | Time:00:00.38 | Mem:0.01M, Peak:0.01M | Scene, View Layer | Updating Objects\n",
            "Fra:1 Mem:9.69M (Peak 25.03M) | Time:00:00.38 | Mem:0.01M, Peak:0.01M | Scene, View Layer | Updating Objects | Copying Transformations to device\n",
            "Fra:1 Mem:9.69M (Peak 25.03M) | Time:00:00.38 | Mem:0.01M, Peak:0.01M | Scene, View Layer | Updating Objects | Applying Static Transformations\n",
            "Fra:1 Mem:9.69M (Peak 25.03M) | Time:00:00.38 | Mem:0.01M, Peak:0.01M | Scene, View Layer | Updating Particle Systems\n",
            "Fra:1 Mem:9.69M (Peak 25.03M) | Time:00:00.38 | Mem:0.01M, Peak:0.01M | Scene, View Layer | Updating Particle Systems | Copying Particles to device\n",
            "Fra:1 Mem:9.69M (Peak 25.03M) | Time:00:00.38 | Mem:0.01M, Peak:0.01M | Scene, View Layer | Updating Meshes\n",
            "Fra:1 Mem:9.69M (Peak 25.03M) | Time:00:00.38 | Mem:0.01M, Peak:0.01M | Scene, View Layer | Updating Mesh | Computing attributes\n",
            "Fra:1 Mem:9.69M (Peak 25.03M) | Time:00:00.38 | Mem:0.01M, Peak:0.01M | Scene, View Layer | Updating Mesh | Copying Attributes to device\n",
            "Fra:1 Mem:9.69M (Peak 25.03M) | Time:00:00.38 | Mem:0.01M, Peak:0.01M | Scene, View Layer | Updating Scene BVH | Building\n",
            "Fra:1 Mem:9.69M (Peak 25.03M) | Time:00:00.38 | Mem:0.01M, Peak:0.01M | Scene, View Layer | Updating Scene BVH | Building BVH\n",
            "Fra:1 Mem:9.69M (Peak 25.03M) | Time:00:00.38 | Mem:0.01M, Peak:0.01M | Scene, View Layer | Updating Scene BVH | Packing BVH triangles and strands\n",
            "Fra:1 Mem:9.69M (Peak 25.03M) | Time:00:00.38 | Mem:0.01M, Peak:0.01M | Scene, View Layer | Updating Scene BVH | Packing BVH nodes\n",
            "Fra:1 Mem:9.69M (Peak 25.03M) | Time:00:00.38 | Mem:0.01M, Peak:0.01M | Scene, View Layer | Updating Scene BVH | Copying BVH to device\n",
            "Fra:1 Mem:9.69M (Peak 25.03M) | Time:00:00.38 | Mem:0.01M, Peak:0.01M | Scene, View Layer | Updating Mesh | Computing normals\n",
            "Fra:1 Mem:9.69M (Peak 25.03M) | Time:00:00.38 | Mem:0.01M, Peak:0.01M | Scene, View Layer | Updating Mesh | Copying Mesh to device\n",
            "Fra:1 Mem:9.69M (Peak 25.03M) | Time:00:00.38 | Mem:0.01M, Peak:0.01M | Scene, View Layer | Updating Objects Flags\n",
            "Fra:1 Mem:9.69M (Peak 25.03M) | Time:00:00.38 | Mem:0.01M, Peak:0.01M | Scene, View Layer | Updating Primitive Offsets\n",
            "Fra:1 Mem:9.69M (Peak 25.03M) | Time:00:00.38 | Mem:0.01M, Peak:0.01M | Scene, View Layer | Updating Images\n",
            "Fra:1 Mem:9.69M (Peak 25.03M) | Time:00:00.38 | Mem:0.01M, Peak:0.01M | Scene, View Layer | Updating Camera Volume\n",
            "Fra:1 Mem:9.69M (Peak 25.03M) | Time:00:00.38 | Mem:0.01M, Peak:0.01M | Scene, View Layer | Updating Lookup Tables\n",
            "Fra:1 Mem:9.69M (Peak 25.03M) | Time:00:00.38 | Mem:0.26M, Peak:0.26M | Scene, View Layer | Updating Lights\n",
            "Fra:1 Mem:9.69M (Peak 25.03M) | Time:00:00.38 | Mem:0.26M, Peak:0.26M | Scene, View Layer | Updating Lights | Computing distribution\n",
            "Fra:1 Mem:9.69M (Peak 25.03M) | Time:00:00.38 | Mem:0.26M, Peak:0.26M | Scene, View Layer | Updating Integrator\n",
            "Fra:1 Mem:9.70M (Peak 25.03M) | Time:00:00.38 | Mem:0.27M, Peak:0.27M | Scene, View Layer | Updating Film\n",
            "Fra:1 Mem:9.70M (Peak 25.03M) | Time:00:00.38 | Mem:0.02M, Peak:0.27M | Scene, View Layer | Updating Lookup Tables\n",
            "Fra:1 Mem:9.70M (Peak 25.03M) | Time:00:00.38 | Mem:0.27M, Peak:0.27M | Scene, View Layer | Updating Baking\n",
            "Fra:1 Mem:9.70M (Peak 25.03M) | Time:00:00.38 | Mem:0.27M, Peak:0.27M | Scene, View Layer | Updating Device | Writing constant memory\n",
            "Fra:1 Mem:9.70M (Peak 25.03M) | Time:00:00.38 | Mem:0.27M, Peak:0.27M | Scene, View Layer | Loading denoising kernels (may take a few minutes the first time)\n",
            "Fra:1 Mem:13.70M (Peak 25.03M) | Time:00:00.39 | Mem:376.27M, Peak:376.27M | Scene, View Layer | Rendered 0/4 Tiles, Sample 0/100\n",
            "Fra:1 Mem:94.33M (Peak 94.33M) | Time:00:01.33 | Remaining:03:05.35 | Mem:456.90M, Peak:456.90M | Scene, View Layer | Rendered 0/4 Tiles, Sample 1/100\n",
            "Fra:1 Mem:94.34M (Peak 94.35M) | Time:00:27.71 | Remaining:02:16.39 | Mem:456.90M, Peak:456.90M | Scene, View Layer | Rendered 0/4 Tiles, Sample 33/100\n",
            "Fra:1 Mem:94.34M (Peak 94.35M) | Time:01:07.45 | Remaining:01:38.71 | Mem:456.91M, Peak:456.91M | Scene, View Layer | Rendered 0/4 Tiles, Sample 80/100\n",
            "Fra:1 Mem:94.34M (Peak 94.35M) | Time:01:18.37 | Remaining:01:22.64 | Mem:456.91M, Peak:456.91M | Scene, View Layer | Rendered 0/4 Tiles, Sample 96/100\n",
            "Fra:1 Mem:94.34M (Peak 174.34M) | Time:01:23.29 | Remaining:01:21.03 | Mem:456.91M, Peak:456.91M | Scene, View Layer | Rendered 0/4 Tiles, Sample 100/100\n",
            "Fra:1 Mem:94.34M (Peak 174.34M) | Time:01:23.29 | Remaining:01:21.03 | Mem:456.91M, Peak:456.91M | Scene, View Layer | Rendered 1/4 Tiles, Sample 100/100\n",
            "Fra:1 Mem:84.30M (Peak 174.34M) | Time:01:24.11 | Remaining:01:20.40 | Mem:446.87M, Peak:456.91M | Scene, View Layer | Rendered 1/4 Tiles, Sample 1/100\n",
            "Fra:1 Mem:84.30M (Peak 174.34M) | Time:01:45.64 | Remaining:00:56.25 | Mem:446.87M, Peak:456.91M | Scene, View Layer | Rendered 1/4 Tiles, Sample 33/100\n",
            "Fra:1 Mem:84.30M (Peak 174.34M) | Time:02:07.28 | Remaining:00:33.06 | Mem:446.87M, Peak:456.91M | Scene, View Layer | Rendered 1/4 Tiles, Sample 65/100\n",
            "Fra:1 Mem:84.30M (Peak 174.34M) | Time:02:17.52 | Remaining:00:22.38 | Mem:446.87M, Peak:456.91M | Scene, View Layer | Rendered 1/4 Tiles, Sample 80/100\n",
            "Fra:1 Mem:84.30M (Peak 174.34M) | Time:02:26.56 | Remaining:00:10.92 | Mem:446.87M, Peak:456.91M | Scene, View Layer | Rendered 1/4 Tiles, Sample 96/100\n",
            "Fra:1 Mem:84.30M (Peak 174.34M) | Time:02:29.87 | Remaining:00:08.17 | Mem:446.87M, Peak:456.91M | Scene, View Layer | Rendered 1/4 Tiles, Sample 100/100\n",
            "Fra:1 Mem:84.30M (Peak 174.34M) | Time:02:29.87 | Remaining:00:08.17 | Mem:446.87M, Peak:456.91M | Scene, View Layer | Rendered 2/4 Tiles, Sample 100/100\n",
            "Fra:1 Mem:18.42M (Peak 174.34M) | Time:02:29.95 | Remaining:00:08.13 | Mem:380.99M, Peak:456.91M | Scene, View Layer | Rendered 2/4 Tiles, Sample 1/100\n",
            "Fra:1 Mem:18.42M (Peak 174.34M) | Time:02:33.72 | Remaining:00:04.69 | Mem:380.99M, Peak:456.91M | Scene, View Layer | Rendered 2/4 Tiles, Sample 80/100\n",
            "Fra:1 Mem:18.42M (Peak 174.34M) | Time:02:34.16 | Remaining:00:03.99 | Mem:380.99M, Peak:456.91M | Scene, View Layer | Rendered 2/4 Tiles, Sample 96/100\n",
            "Fra:1 Mem:18.42M (Peak 174.34M) | Time:02:34.36 | Remaining:00:03.81 | Mem:380.99M, Peak:456.91M | Scene, View Layer | Rendered 2/4 Tiles, Sample 100/100\n",
            "Fra:1 Mem:18.42M (Peak 174.34M) | Time:02:34.36 | Remaining:00:03.81 | Mem:380.99M, Peak:456.91M | Scene, View Layer | Rendered 3/4 Tiles, Sample 100/100\n",
            "Fra:1 Mem:17.84M (Peak 174.34M) | Time:02:34.41 | Remaining:00:03.78 | Mem:380.40M, Peak:456.91M | Scene, View Layer | Rendered 3/4 Tiles, Sample 1/100\n",
            "Fra:1 Mem:17.84M (Peak 174.34M) | Time:02:37.30 | Remaining:00:00.76 | Mem:380.40M, Peak:456.91M | Scene, View Layer | Rendered 3/4 Tiles, Sample 80/100\n",
            "Fra:1 Mem:17.84M (Peak 174.34M) | Time:02:37.69 | Remaining:00:00.15 | Mem:380.40M, Peak:456.91M | Scene, View Layer | Rendered 3/4 Tiles, Sample 96/100\n",
            "Fra:1 Mem:17.84M (Peak 174.34M) | Time:02:37.86 | Mem:380.40M, Peak:456.91M | Scene, View Layer | Rendered 3/4 Tiles, Sample 100/100\n",
            "Fra:1 Mem:17.84M (Peak 174.34M) | Time:02:37.86 | Mem:380.40M, Peak:456.91M | Scene, View Layer | Rendered 3/4 Tiles, Sample 0/100\n",
            "Fra:1 Mem:17.84M (Peak 174.34M) | Time:02:37.86 | Mem:380.40M, Peak:456.91M | Scene, View Layer | Finished\n",
            "Fra:1 Mem:13.44M (Peak 174.34M) | Time:02:37.86 | Mem:376.01M, Peak:456.91M | Scene | Reading full buffer from disk\n",
            "Fra:1 Mem:171.65M (Peak 174.34M) | Time:02:38.80 | Mem:376.01M, Peak:456.91M | Scene | View Layer | Denoising\n",
            "Fra:1 Mem:171.65M (Peak 219.11M) | Time:03:02.70 | Mem:534.21M, Peak:534.21M | Scene | View Layer | Finishing\n",
            "Saved: 'output/blender-01.png'\n",
            " Time: 03:03.41 (Saving: 00:00.47)\n",
            "\n",
            "\n",
            "Blender quit\n"
          ]
        }
      ],
      "source": [
        "!rm -r output\n",
        "!mkdir output\n",
        "\n",
        "if not drive_output_path.endswith('/'):\n",
        "    drive_output_path += '/'\n",
        "\n",
        "if download_type != 'gdrive_direct':\n",
        "    output_path = 'output/' + output_name\n",
        "else:\n",
        "    output_path = '/drive/My Drive/' + drive_output_path + output_name\n",
        "\n",
        "if animation:\n",
        "    if start_frame == end_frame:\n",
        "        !./$blender_version/blender -b 'render/{blend_file_path}' -P setgpu.py -E CYCLES -o '{output_path}' -noaudio -a -- --cycles-device \"{renderer}\"\n",
        "    else:\n",
        "        !./$blender_version/blender -b 'render/{blend_file_path}' -P setgpu.py -E CYCLES -o '{output_path}' -noaudio -s $start_frame -e $end_frame -a -- --cycles-device \"{renderer}\"\n",
        "else:\n",
        "    !./$blender_version/blender -b 'render/{blend_file_path}' -P setgpu.py -E CYCLES -o '{output_path}' -noaudio -f $start_frame -- --cycles-device \"{renderer}\""
      ]
    },
    {
      "cell_type": "code",
      "execution_count": null,
      "metadata": {
        "id": "IjN_CFwEIB6f",
        "colab": {
          "base_uri": "https://localhost:8080/",
          "height": 17
        },
        "outputId": "c65975d7-71b8-49de-9764-493a1f7bd461"
      },
      "outputs": [
        {
          "output_type": "display_data",
          "data": {
            "text/plain": [
              "<IPython.core.display.Javascript object>"
            ],
            "application/javascript": [
              "\n",
              "    async function download(id, filename, size) {\n",
              "      if (!google.colab.kernel.accessAllowed) {\n",
              "        return;\n",
              "      }\n",
              "      const div = document.createElement('div');\n",
              "      const label = document.createElement('label');\n",
              "      label.textContent = `Downloading \"${filename}\": `;\n",
              "      div.appendChild(label);\n",
              "      const progress = document.createElement('progress');\n",
              "      progress.max = size;\n",
              "      div.appendChild(progress);\n",
              "      document.body.appendChild(div);\n",
              "\n",
              "      const buffers = [];\n",
              "      let downloaded = 0;\n",
              "\n",
              "      const channel = await google.colab.kernel.comms.open(id);\n",
              "      // Send a message to notify the kernel that we're ready.\n",
              "      channel.send({})\n",
              "\n",
              "      for await (const message of channel.messages) {\n",
              "        // Send a message to notify the kernel that we're ready.\n",
              "        channel.send({})\n",
              "        if (message.buffers) {\n",
              "          for (const buffer of message.buffers) {\n",
              "            buffers.push(buffer);\n",
              "            downloaded += buffer.byteLength;\n",
              "            progress.value = downloaded;\n",
              "          }\n",
              "        }\n",
              "      }\n",
              "      const blob = new Blob(buffers, {type: 'application/binary'});\n",
              "      const a = document.createElement('a');\n",
              "      a.href = window.URL.createObjectURL(blob);\n",
              "      a.download = filename;\n",
              "      div.appendChild(a);\n",
              "      a.click();\n",
              "      div.remove();\n",
              "    }\n",
              "  "
            ]
          },
          "metadata": {}
        },
        {
          "output_type": "display_data",
          "data": {
            "text/plain": [
              "<IPython.core.display.Javascript object>"
            ],
            "application/javascript": [
              "download(\"download_836e9b9b-ab43-4290-96ac-2758538ff6b9\", \"blender-01.png\", 2744941)"
            ]
          },
          "metadata": {}
        }
      ],
      "source": [
        "path, dirs, files_folder = next(os.walk(\"output\"))\n",
        "output_folder_name = output_name.replace('#', '') + 'render'\n",
        "\n",
        "if download_type == 'gdrive_direct':\n",
        "    pass\n",
        "elif len(files_folder) == 1:\n",
        "    render_img = 'output/' + files_folder[0]\n",
        "    if download_type == 'direct':\n",
        "        files.download('output/' + files_folder[0])\n",
        "    else:\n",
        "        shutil.copy('/content/' + render_img, '/drive/My Drive/' + drive_output_path)\n",
        "elif len(files_folder) > 1:\n",
        "    if zip_files:\n",
        "        shutil.make_archive(output_folder_name, 'zip', 'output')\n",
        "    if download_type == 'direct':\n",
        "        files.download(output_folder_name + '.zip')\n",
        "    else:\n",
        "        shutil.copy('/content/' + output_folder_name + \".zip\", '/drive/My Drive/' + drive_output_path)\n",
        "elif download_type == 'direct':\n",
        "    for f in files_folder:\n",
        "        files.download('output/{}'.format(f))\n",
        "    # Drive, no zip\n",
        "    else:\n",
        "        for f in files_folder:\n",
        "          shutil.copy(\"/content/output/\" + f, '/drive/My Drive/' + drive_output_path + f)\n",
        "else:\n",
        "    raise SystemExit(\"No frames are rendered.\")"
      ]
    }
  ],
  "metadata": {
    "accelerator": "GPU",
    "colab": {
      "collapsed_sections": [],
      "name": "Copy of blender-render.ipynb",
      "provenance": [],
      "include_colab_link": true
    },
    "kernelspec": {
      "display_name": "Python 3",
      "language": "python",
      "name": "python3"
    },
    "language_info": {
      "codemirror_mode": {
        "name": "ipython",
        "version": 3
      },
      "file_extension": ".py",
      "mimetype": "text/x-python",
      "name": "python",
      "nbconvert_exporter": "python",
      "pygments_lexer": "ipython3",
      "version": "3.7.4"
    }
  },
  "nbformat": 4,
  "nbformat_minor": 0
}